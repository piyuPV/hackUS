{
 "cells": [
  {
   "cell_type": "code",
   "execution_count": 2,
   "id": "e0454444-8501-4151-9c33-923fd5c678a4",
   "metadata": {},
   "outputs": [
    {
     "name": "stdout",
     "output_type": "stream",
     "text": [
      "{'af': 'afrikaans', 'sq': 'albanian', 'am': 'amharic', 'ar': 'arabic', 'hy': 'armenian', 'az': 'azerbaijani', 'eu': 'basque', 'be': 'belarusian', 'bn': 'bengali', 'bs': 'bosnian', 'bg': 'bulgarian', 'ca': 'catalan', 'ceb': 'cebuano', 'ny': 'chichewa', 'zh-cn': 'chinese (simplified)', 'zh-tw': 'chinese (traditional)', 'co': 'corsican', 'hr': 'croatian', 'cs': 'czech', 'da': 'danish', 'nl': 'dutch', 'en': 'english', 'eo': 'esperanto', 'et': 'estonian', 'tl': 'filipino', 'fi': 'finnish', 'fr': 'french', 'fy': 'frisian', 'gl': 'galician', 'ka': 'georgian', 'de': 'german', 'el': 'greek', 'gu': 'gujarati', 'ht': 'haitian creole', 'ha': 'hausa', 'haw': 'hawaiian', 'iw': 'hebrew', 'he': 'hebrew', 'hi': 'hindi', 'hmn': 'hmong', 'hu': 'hungarian', 'is': 'icelandic', 'ig': 'igbo', 'id': 'indonesian', 'ga': 'irish', 'it': 'italian', 'ja': 'japanese', 'jw': 'javanese', 'kn': 'kannada', 'kk': 'kazakh', 'km': 'khmer', 'ko': 'korean', 'ku': 'kurdish (kurmanji)', 'ky': 'kyrgyz', 'lo': 'lao', 'la': 'latin', 'lv': 'latvian', 'lt': 'lithuanian', 'lb': 'luxembourgish', 'mk': 'macedonian', 'mg': 'malagasy', 'ms': 'malay', 'ml': 'malayalam', 'mt': 'maltese', 'mi': 'maori', 'mr': 'marathi', 'mn': 'mongolian', 'my': 'myanmar (burmese)', 'ne': 'nepali', 'no': 'norwegian', 'or': 'odia', 'ps': 'pashto', 'fa': 'persian', 'pl': 'polish', 'pt': 'portuguese', 'pa': 'punjabi', 'ro': 'romanian', 'ru': 'russian', 'sm': 'samoan', 'gd': 'scots gaelic', 'sr': 'serbian', 'st': 'sesotho', 'sn': 'shona', 'sd': 'sindhi', 'si': 'sinhala', 'sk': 'slovak', 'sl': 'slovenian', 'so': 'somali', 'es': 'spanish', 'su': 'sundanese', 'sw': 'swahili', 'sv': 'swedish', 'tg': 'tajik', 'ta': 'tamil', 'te': 'telugu', 'th': 'thai', 'tr': 'turkish', 'uk': 'ukrainian', 'ur': 'urdu', 'ug': 'uyghur', 'uz': 'uzbek', 'vi': 'vietnamese', 'cy': 'welsh', 'xh': 'xhosa', 'yi': 'yiddish', 'yo': 'yoruba', 'zu': 'zulu'}\n"
     ]
    }
   ],
   "source": [
    "import googletrans\n",
    " \n",
    "print(googletrans.LANGUAGES)"
   ]
  },
  {
   "cell_type": "code",
   "execution_count": 4,
   "id": "db6a00d1-5ba0-48a5-878a-02971bd1f5d8",
   "metadata": {},
   "outputs": [
    {
     "name": "stdout",
     "output_type": "stream",
     "text": [
      "Detected(lang=en, confidence=None)\n",
      "Detected(lang=es, confidence=None)\n",
      "Detected(lang=kn, confidence=None)\n"
     ]
    }
   ],
   "source": [
    "from googletrans import Translator\n",
    "\n",
    "\n",
    "text1 = \"subscribe my channel\"\n",
    "\n",
    "text2 = \"suscríbete a mi canal\"\n",
    "\n",
    "text3 = \"ಬೆಂಗಳೂರು ನಗರ ಪೊಲೀಸ್ ಕಮಿಷನರ್ ಕಚೇರಿಯ ಕೂಗಳತೆ ದೂರದಲ್ಲಿ ಕಳ್ಳತನ ನಡೆದಿದೆ ಮಚ್ಚು ದೊಣ್ಣೆಗಳಿಂದ ಭದ್ರತಾ ಸಿಬ್ಬಂದಿಯನ್ನು ಬೆದರಿಸಿ ಎಂಎಸ್ಸಿ ಅಪಾರ್ಟ್ಮೆಂಟ್ನಲ್ಲಿ ಗಂಧದ ಮರವನ್ನು ಕಳ್ಳರು ಕದ್ದೊಯ್ದಿದ್ದಾರೆ ಇದೇ ತಿಂಗಳು 21 ನೇ ತಾರೀಕು ಘಟನೆ ನಡೆದಿದ್ದು ತಡವಾಗಿ ಬೆಳಕಿಗೆ ಬಂದಿದೆ ವಿಧಾನಸೌಧ ಠಾಣೆಯಲ್ಲಿ ಪ್ರಕರಣ ದಾಖಲಾಗಿದ್ದು ಪೊಲೀಸರು ತನಿಖೆ ನಡೆಸುತ್ತಿದ್ದಾರೆ\"\n",
    "\n",
    "\n",
    "\n",
    "translator = Translator()\n",
    "\n",
    "\n",
    "print(translator.detect(text1))\n",
    "print(translator.detect(text2))\n",
    "print(translator.detect(text3))"
   ]
  },
  {
   "cell_type": "code",
   "execution_count": 20,
   "id": "6469ad93-2538-4993-980c-824c3108d932",
   "metadata": {},
   "outputs": [
    {
     "name": "stdout",
     "output_type": "stream",
     "text": [
      "Translated From kn :  Translated(src=kn, dest=en, text=Now here we are nodda\n",
      "If it comes to English in Kannada, it is thorny.\n",
      "If you are a garden who is doing a garden, see Natural Science See It is a hybrid for you\n",
      "Hogta for kg goes one kg for 70 rupees, pronunciation=None, extra_data=\"{'confiden...\")\n"
     ]
    }
   ],
   "source": [
    "from googletrans import Translator\n",
    "\n",
    "\n",
    "\n",
    "text3 = \"\"\"\n",
    "ಈಗ ಇಲ್ಲಿ ನಾವು ನೋಡ್ತಾ ಇರೋದು ಕವಳಿ ಗಿಡ ಯಾಕ್ ಬೆಳಿಬೇಕು ಕವಳಿ ಹಣ್ಣು ಅಂತ \n",
    "ಹೇಳುತ್ತೇವೆ ಇದಕ್ಕೆ ಕನ್ನಡದಲ್ಲಿ ಇಂಗ್ಲೀಷಲ್ಲಿ ಬಂದರೆ ಇದಕ್ಕೆ ಮುಳ್ಳು ಇದೆ ಓಕೆ ಈ ಮುಳ್ಳು ಏನ್ ಮಾಡುತ್ತೆ \n",
    "ನಿಮಗೆ ಫ್ರೆಂಡ್ಸ್ ಇದ್ದಾರೆ ಇಲ್ಲ ಯಾರು ಒಂದು ತೋಟ ಮಾಡುತ್ತಿದ್ದರೆ ನ್ಯಾಚುರಲ್ ಸೈನ್ಸ್ ಮಾಡಿ ನೋಡಿ ಇದು ನಿಮಗೆ ಹೈಬ್ರಿಡ್ ಒಂದು\n",
    "ಕೆಜಿ ಗೆ ಹೋಗ್ತಾ ಇರೋದು 70 ರೂಪಾಯಿಗೆ ಒಂದು ಕೆಜಿ ಹೋಗುತ್ತದೆ\n",
    "\"\"\"\n",
    "\n",
    "\n",
    "translator = Translator()\n",
    "\n",
    "\n",
    "# print(\"Translated From Spanish : \", translator.translate(text2))\n",
    "print(\"Translated From kn : \", translator.translate(text3))"
   ]
  },
  {
   "cell_type": "code",
   "execution_count": 17,
   "id": "8e1e9db2-3924-4fba-877a-0bbc61dc5cc8",
   "metadata": {},
   "outputs": [
    {
     "name": "stdout",
     "output_type": "stream",
     "text": [
      "Translated Text:  The theft took place in the distance of the Bangalore city police commissioner's office. Thieves have stolen a sandalwood tree in an MSc apartment, threatening security guards with muddy and doses. The 21st incident of this month has come to light late. A case has been registered at the Vidhan Sabha station and the police are investigating.\n"
     ]
    }
   ],
   "source": [
    "chunks = [\n",
    "    \"ಬೆಂಗಳೂರು ನಗರ ಪೊಲೀಸ್ ಕಮಿಷನರ್ ಕಚೇರಿಯ ಕೂಗಳತೆ ದೂರದಲ್ಲಿ ಕಳ್ಳತನ ನಡೆದಿದೆ.\",\n",
    "    \"ಮಚ್ಚು, ದೊಣ್ಣೆಗಳಿಂದ ಭದ್ರತಾ ಸಿಬ್ಬಂದಿಯನ್ನು ಬೆದರಿಸಿ ಎಂಎಸ್ಸಿ ಅಪಾರ್ಟ್ಮೆಂಟ್ನಲ್ಲಿ ಗಂಧದ ಮರವನ್ನು ಕಳ್ಳರು ಕದ್ದೊಯ್ದಿದ್ದಾರೆ.\",\n",
    "    \"ಇದೇ ತಿಂಗಳು 21 ನೇ ತಾರೀಕು ಘಟನೆ ನಡೆದಿದ್ದು ತಡವಾಗಿ ಬೆಳಕಿಗೆ ಬಂದಿದೆ.\",\n",
    "    \"ವಿಧಾನಸೌಧ ಠಾಣೆಯಲ್ಲಿ ಪ್ರಕರಣ ದಾಖಲಾಗಿದ್ದು ಪೊಲೀಸರು ತನಿಖೆ ನಡೆಸುತ್ತಿದ್ದಾರೆ.\"\n",
    "]\n",
    "\n",
    "translated_text = []\n",
    "for chunk in chunks:\n",
    "    translation = translator.translate(chunk, src='kn', dest='en')\n",
    "    translated_text.append(translation.text)\n",
    "\n",
    "print(\"Translated Text: \", \" \".join(translated_text))\n"
   ]
  },
  {
   "cell_type": "code",
   "execution_count": 15,
   "id": "4e2bf822-0afd-4f87-8e20-ed44711407f4",
   "metadata": {},
   "outputs": [],
   "source": [
    "# chunks = [\n",
    "#     \"ಈಗ ಇಲ್ಲಿ ನಾವು ನೋಡ್ತಾ ಇರೋದು ಕವಳಿ ಗಿಡ ಯಾಕ್ ಬೆಳಿಬೇಕು ಕವಳಿ ಹಣ್ಣು\",\n",
    "#     \"ಅಂತ ಹೇಳುತ್ತೇವೆ ಇದಕ್ಕೆ ಕನ್ನಡದಲ್ಲಿ ಇಂಗ್ಲೀಷಲ್ಲಿ ಬಂದರೆ ಇದಕ್ಕೆ ಮುಳ್ಳು ಇದೆ ಓಕೆ ಈ ಮುಳ್ಳು ಏನ್ ಮಾಡುತ್ತೆ\",\n",
    "#     \"ನಿಮಗೆ ಫ್ರೆಂಡ್ಸ್ ಇದ್ದಾರೆ ಇಲ್ಲ ಯಾರು ಒಂದು ತೋಟ ಮಾಡುತ್ತಿದ್ದರೆ ನ್ಯಾಚುರಲ್ ಸೈನ್ಸ್\",\n",
    "#     \" ಮಾಡಿ ನೋಡಿ ಇದು ನಿಮಗೆ ಹೈಬ್ರಿಡ್ ಒಂದು ಕೆಜಿ ಗೆ ಹೋಗ್ತಾ ಇರೋದು 70 ರೂಪಾಯಿಗೆ ಒಂದು ಕೆಜಿ ಹೋಗುತ್ತದೆ\"\n",
    "# ]"
   ]
  },
  {
   "cell_type": "code",
   "execution_count": null,
   "id": "5644e582-ddcf-4335-a98a-a512d93abdfb",
   "metadata": {},
   "outputs": [],
   "source": []
  }
 ],
 "metadata": {
  "kernelspec": {
   "display_name": "Python 3 (ipykernel)",
   "language": "python",
   "name": "python3"
  },
  "language_info": {
   "codemirror_mode": {
    "name": "ipython",
    "version": 3
   },
   "file_extension": ".py",
   "mimetype": "text/x-python",
   "name": "python",
   "nbconvert_exporter": "python",
   "pygments_lexer": "ipython3",
   "version": "3.11.7"
  }
 },
 "nbformat": 4,
 "nbformat_minor": 5
}
