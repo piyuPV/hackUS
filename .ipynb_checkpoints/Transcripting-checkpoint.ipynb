{
 "cells": [
  {
   "cell_type": "code",
   "execution_count": null,
   "id": "f5750390-9251-487c-a415-5f9abf62fa5a",
   "metadata": {},
   "outputs": [],
   "source": [
    "import os\n",
    "import speech_recognition as sr\n",
    "from googletrans import Translator\n",
    "from pydub import AudioSegment\n",
    "\n",
    "def convert_wav_to_text(file_path, target_language='en'):\n",
    "    # Initialize recognizer and translator\n",
    "    recognizer = sr.Recognizer()\n",
    "    translator = Translator()\n",
    "\n",
    "    # Convert audio file to a format compatible with SpeechRecognition\n",
    "    audio = AudioSegment.from_wav(file_path)\n",
    "    temp_wav_file = \"temp.wav\"\n",
    "    audio.export(temp_wav_file, format=\"wav\")\n",
    "\n",
    "    # Convert speech to Kannada text\n",
    "    with sr.AudioFile(temp_wav_file) as source:\n",
    "        print(\"Processing audio...\")\n",
    "        audio_data = recognizer.record(source)\n",
    "        try:\n",
    "            kannada_text = recognizer.recognize_google(audio_data, language=\"kn-IN\")\n",
    "            print(\"Recognized Kannada text:\", kannada_text)\n",
    "        except sr.UnknownValueError:\n",
    "            return \"Could not understand audio\"\n",
    "        except sr.RequestError as e:\n",
    "            return f\"Speech Recognition error: {e}\"\n",
    "\n",
    "    # Translate Kannada text to English\n",
    "    try:\n",
    "        translated_text = translator.translate(kannada_text, src=\"kn\", dest=target_language).text\n",
    "        print(\"Translated English text:\", translated_text)\n",
    "        return translated_text\n",
    "    except Exception as e:\n",
    "        return f\"Translation error: {e}\"\n",
    "\n",
    "# Path to your Kannada WAV file\n",
    "wav_file_path = \"/content/SandalWoodNewsStories_291.wav\"\n",
    "\n",
    "# Convert audio to text and translate\n",
    "translated_text = convert_wav_to_text(wav_file_path)\n",
    "if translated_text:\n",
    "    # Save to a text file\n",
    "    with open(\"output.txt\", \"w\", encoding=\"utf-8\") as f:\n",
    "        f.write(translated_text)\n",
    "    print(\"Translation saved to output.txt\")\n"
   ]
  },
  {
   "cell_type": "code",
   "execution_count": 1,
   "id": "0e95c19b-7c4c-4bc1-9482-2cd2312b8045",
   "metadata": {
    "scrolled": true
   },
   "outputs": [
    {
     "name": "stderr",
     "output_type": "stream",
     "text": [
      "C:\\Users\\piyus\\anaconda3\\Lib\\site-packages\\pydub\\utils.py:170: RuntimeWarning: Couldn't find ffmpeg or avconv - defaulting to ffmpeg, but may not work\n",
      "  warn(\"Couldn't find ffmpeg or avconv - defaulting to ffmpeg, but may not work\", RuntimeWarning)\n"
     ]
    },
    {
     "name": "stdout",
     "output_type": "stream",
     "text": [
      "Processing audio file: ../dataset/preprocessed/SandalWoodNewsStories_1.wav\n",
      "Transcription saved to ../dataset/text/SandalWoodNewsStories_1.txt\n",
      "Processing audio file: ../dataset/preprocessed/SandalWoodNewsStories_107.wav\n",
      "Recognized Kannada text: ಈಗ ಇಲ್ಲಿ ನಾವು ನೋಡ್ತಾ ಇರೋದು ಕವಳಿ ಗಿಡ ಯಾಕ್ ಬೆಳಿಬೇಕು ಕವಳಿ ಹಣ್ಣು ಅಂತ ಹೇಳುತ್ತೇವೆ ಇದಕ್ಕೆ ಕನ್ನಡದಲ್ಲಿ ಇಂಗ್ಲೀಷಲ್ಲಿ ಬಂದರೆ ಇದಕ್ಕೆ ಮುಳ್ಳು ಇದೆ ಓಕೆ ಈ ಮುಳ್ಳು ಏನ್ ಮಾಡುತ್ತೆ ನಿಮಗೆ ಫ್ರೆಂಡ್ಸ್ ಇದ್ದಾರೆ ಇಲ್ಲ ಯಾರು ಒಂದು ತೋಟ ಮಾಡುತ್ತಿದ್ದರೆ ನ್ಯಾಚುರಲ್ ಸೈನ್ಸ್ ಮಾಡಿ ನೋಡಿ ಇದು ನಿಮಗೆ ಹೈಬ್ರಿಡ್ ಒಂದು ಕೆಜಿ ಗೆ ಹೋಗ್ತಾ ಇರೋದು 70 ರೂಪಾಯಿಗೆ ಒಂದು ಕೆಜಿ ಹೋಗುತ್ತದೆ\n",
      "Translated English text: Now we have to do a noda plant yak.\n",
      "Transcription saved to ../dataset/text/SandalWoodNewsStories_107.txt\n",
      "Processing audio file: ../dataset/preprocessed/SandalWoodNewsStories_112.wav\n",
      "Transcription saved to ../dataset/text/SandalWoodNewsStories_112.txt\n",
      "Processing audio file: ../dataset/preprocessed/SandalWoodNewsStories_144.wav\n"
     ]
    },
    {
     "ename": "KeyboardInterrupt",
     "evalue": "",
     "output_type": "error",
     "traceback": [
      "\u001b[1;31m---------------------------------------------------------------------------\u001b[0m",
      "\u001b[1;31mKeyboardInterrupt\u001b[0m                         Traceback (most recent call last)",
      "Cell \u001b[1;32mIn[1], line 49\u001b[0m\n\u001b[0;32m     46\u001b[0m input_file_path \u001b[38;5;241m=\u001b[39m os\u001b[38;5;241m.\u001b[39mpath\u001b[38;5;241m.\u001b[39mjoin(input_dir, filename)\n\u001b[0;32m     47\u001b[0m output_file_path \u001b[38;5;241m=\u001b[39m os\u001b[38;5;241m.\u001b[39mpath\u001b[38;5;241m.\u001b[39mjoin(output_dir, \u001b[38;5;124mf\u001b[39m\u001b[38;5;124m\"\u001b[39m\u001b[38;5;132;01m{\u001b[39;00mos\u001b[38;5;241m.\u001b[39mpath\u001b[38;5;241m.\u001b[39msplitext(filename)[\u001b[38;5;241m0\u001b[39m]\u001b[38;5;132;01m}\u001b[39;00m\u001b[38;5;124m.txt\u001b[39m\u001b[38;5;124m\"\u001b[39m)\n\u001b[1;32m---> 49\u001b[0m translated_text \u001b[38;5;241m=\u001b[39m convert_wav_to_text(input_file_path)\n\u001b[0;32m     50\u001b[0m \u001b[38;5;28;01mif\u001b[39;00m translated_text:\n\u001b[0;32m     51\u001b[0m     \u001b[38;5;66;03m# Save the transcription to the text file\u001b[39;00m\n\u001b[0;32m     52\u001b[0m     \u001b[38;5;28;01mwith\u001b[39;00m \u001b[38;5;28mopen\u001b[39m(output_file_path, \u001b[38;5;124m\"\u001b[39m\u001b[38;5;124mw\u001b[39m\u001b[38;5;124m\"\u001b[39m, encoding\u001b[38;5;241m=\u001b[39m\u001b[38;5;124m\"\u001b[39m\u001b[38;5;124mutf-8\u001b[39m\u001b[38;5;124m\"\u001b[39m) \u001b[38;5;28;01mas\u001b[39;00m f:\n",
      "Cell \u001b[1;32mIn[1], line 21\u001b[0m, in \u001b[0;36mconvert_wav_to_text\u001b[1;34m(file_path, target_language)\u001b[0m\n\u001b[0;32m     19\u001b[0m audio_data \u001b[38;5;241m=\u001b[39m recognizer\u001b[38;5;241m.\u001b[39mrecord(source)\n\u001b[0;32m     20\u001b[0m \u001b[38;5;28;01mtry\u001b[39;00m:\n\u001b[1;32m---> 21\u001b[0m     kannada_text \u001b[38;5;241m=\u001b[39m recognizer\u001b[38;5;241m.\u001b[39mrecognize_google(audio_data, language\u001b[38;5;241m=\u001b[39m\u001b[38;5;124m\"\u001b[39m\u001b[38;5;124mkn-IN\u001b[39m\u001b[38;5;124m\"\u001b[39m)\n\u001b[0;32m     22\u001b[0m     \u001b[38;5;28mprint\u001b[39m(\u001b[38;5;124m\"\u001b[39m\u001b[38;5;124mRecognized Kannada text:\u001b[39m\u001b[38;5;124m\"\u001b[39m, kannada_text)\n\u001b[0;32m     23\u001b[0m \u001b[38;5;28;01mexcept\u001b[39;00m sr\u001b[38;5;241m.\u001b[39mUnknownValueError:\n",
      "File \u001b[1;32m~\\anaconda3\\Lib\\site-packages\\speech_recognition\\recognizers\\google.py:244\u001b[0m, in \u001b[0;36mrecognize_legacy\u001b[1;34m(recognizer, audio_data, key, language, pfilter, show_all, with_confidence)\u001b[0m\n\u001b[0;32m    239\u001b[0m request_builder \u001b[38;5;241m=\u001b[39m create_request_builder(\n\u001b[0;32m    240\u001b[0m     key\u001b[38;5;241m=\u001b[39mkey, language\u001b[38;5;241m=\u001b[39mlanguage, filter_level\u001b[38;5;241m=\u001b[39mpfilter\n\u001b[0;32m    241\u001b[0m )\n\u001b[0;32m    242\u001b[0m request \u001b[38;5;241m=\u001b[39m request_builder\u001b[38;5;241m.\u001b[39mbuild(audio_data)\n\u001b[1;32m--> 244\u001b[0m response_text \u001b[38;5;241m=\u001b[39m obtain_transcription(\n\u001b[0;32m    245\u001b[0m     request, timeout\u001b[38;5;241m=\u001b[39mrecognizer\u001b[38;5;241m.\u001b[39moperation_timeout\n\u001b[0;32m    246\u001b[0m )\n\u001b[0;32m    248\u001b[0m output_parser \u001b[38;5;241m=\u001b[39m OutputParser(\n\u001b[0;32m    249\u001b[0m     show_all\u001b[38;5;241m=\u001b[39mshow_all, with_confidence\u001b[38;5;241m=\u001b[39mwith_confidence\n\u001b[0;32m    250\u001b[0m )\n\u001b[0;32m    251\u001b[0m \u001b[38;5;28;01mreturn\u001b[39;00m output_parser\u001b[38;5;241m.\u001b[39mparse(response_text)\n",
      "File \u001b[1;32m~\\anaconda3\\Lib\\site-packages\\speech_recognition\\recognizers\\google.py:212\u001b[0m, in \u001b[0;36mobtain_transcription\u001b[1;34m(request, timeout)\u001b[0m\n\u001b[0;32m    208\u001b[0m \u001b[38;5;28;01mexcept\u001b[39;00m URLError \u001b[38;5;28;01mas\u001b[39;00m e:\n\u001b[0;32m    209\u001b[0m     \u001b[38;5;28;01mraise\u001b[39;00m RequestError(\n\u001b[0;32m    210\u001b[0m         \u001b[38;5;124m\"\u001b[39m\u001b[38;5;124mrecognition connection failed: \u001b[39m\u001b[38;5;132;01m{}\u001b[39;00m\u001b[38;5;124m\"\u001b[39m\u001b[38;5;241m.\u001b[39mformat(e\u001b[38;5;241m.\u001b[39mreason)\n\u001b[0;32m    211\u001b[0m     )\n\u001b[1;32m--> 212\u001b[0m \u001b[38;5;28;01mreturn\u001b[39;00m response\u001b[38;5;241m.\u001b[39mread()\u001b[38;5;241m.\u001b[39mdecode(\u001b[38;5;124m\"\u001b[39m\u001b[38;5;124mutf-8\u001b[39m\u001b[38;5;124m\"\u001b[39m)\n",
      "File \u001b[1;32m~\\anaconda3\\Lib\\http\\client.py:467\u001b[0m, in \u001b[0;36mHTTPResponse.read\u001b[1;34m(self, amt)\u001b[0m\n\u001b[0;32m    464\u001b[0m     \u001b[38;5;28;01mreturn\u001b[39;00m \u001b[38;5;124mb\u001b[39m\u001b[38;5;124m\"\u001b[39m\u001b[38;5;124m\"\u001b[39m\n\u001b[0;32m    466\u001b[0m \u001b[38;5;28;01mif\u001b[39;00m \u001b[38;5;28mself\u001b[39m\u001b[38;5;241m.\u001b[39mchunked:\n\u001b[1;32m--> 467\u001b[0m     \u001b[38;5;28;01mreturn\u001b[39;00m \u001b[38;5;28mself\u001b[39m\u001b[38;5;241m.\u001b[39m_read_chunked(amt)\n\u001b[0;32m    469\u001b[0m \u001b[38;5;28;01mif\u001b[39;00m amt \u001b[38;5;129;01mis\u001b[39;00m \u001b[38;5;129;01mnot\u001b[39;00m \u001b[38;5;28;01mNone\u001b[39;00m:\n\u001b[0;32m    470\u001b[0m     \u001b[38;5;28;01mif\u001b[39;00m \u001b[38;5;28mself\u001b[39m\u001b[38;5;241m.\u001b[39mlength \u001b[38;5;129;01mis\u001b[39;00m \u001b[38;5;129;01mnot\u001b[39;00m \u001b[38;5;28;01mNone\u001b[39;00m \u001b[38;5;129;01mand\u001b[39;00m amt \u001b[38;5;241m>\u001b[39m \u001b[38;5;28mself\u001b[39m\u001b[38;5;241m.\u001b[39mlength:\n\u001b[0;32m    471\u001b[0m         \u001b[38;5;66;03m# clip the read to the \"end of response\"\u001b[39;00m\n",
      "File \u001b[1;32m~\\anaconda3\\Lib\\http\\client.py:590\u001b[0m, in \u001b[0;36mHTTPResponse._read_chunked\u001b[1;34m(self, amt)\u001b[0m\n\u001b[0;32m    588\u001b[0m \u001b[38;5;28;01mtry\u001b[39;00m:\n\u001b[0;32m    589\u001b[0m     \u001b[38;5;28;01mwhile\u001b[39;00m \u001b[38;5;28;01mTrue\u001b[39;00m:\n\u001b[1;32m--> 590\u001b[0m         chunk_left \u001b[38;5;241m=\u001b[39m \u001b[38;5;28mself\u001b[39m\u001b[38;5;241m.\u001b[39m_get_chunk_left()\n\u001b[0;32m    591\u001b[0m         \u001b[38;5;28;01mif\u001b[39;00m chunk_left \u001b[38;5;129;01mis\u001b[39;00m \u001b[38;5;28;01mNone\u001b[39;00m:\n\u001b[0;32m    592\u001b[0m             \u001b[38;5;28;01mbreak\u001b[39;00m\n",
      "File \u001b[1;32m~\\anaconda3\\Lib\\http\\client.py:573\u001b[0m, in \u001b[0;36mHTTPResponse._get_chunk_left\u001b[1;34m(self)\u001b[0m\n\u001b[0;32m    571\u001b[0m     \u001b[38;5;28mself\u001b[39m\u001b[38;5;241m.\u001b[39m_safe_read(\u001b[38;5;241m2\u001b[39m)  \u001b[38;5;66;03m# toss the CRLF at the end of the chunk\u001b[39;00m\n\u001b[0;32m    572\u001b[0m \u001b[38;5;28;01mtry\u001b[39;00m:\n\u001b[1;32m--> 573\u001b[0m     chunk_left \u001b[38;5;241m=\u001b[39m \u001b[38;5;28mself\u001b[39m\u001b[38;5;241m.\u001b[39m_read_next_chunk_size()\n\u001b[0;32m    574\u001b[0m \u001b[38;5;28;01mexcept\u001b[39;00m \u001b[38;5;167;01mValueError\u001b[39;00m:\n\u001b[0;32m    575\u001b[0m     \u001b[38;5;28;01mraise\u001b[39;00m IncompleteRead(\u001b[38;5;124mb\u001b[39m\u001b[38;5;124m'\u001b[39m\u001b[38;5;124m'\u001b[39m)\n",
      "File \u001b[1;32m~\\anaconda3\\Lib\\http\\client.py:533\u001b[0m, in \u001b[0;36mHTTPResponse._read_next_chunk_size\u001b[1;34m(self)\u001b[0m\n\u001b[0;32m    531\u001b[0m \u001b[38;5;28;01mdef\u001b[39;00m \u001b[38;5;21m_read_next_chunk_size\u001b[39m(\u001b[38;5;28mself\u001b[39m):\n\u001b[0;32m    532\u001b[0m     \u001b[38;5;66;03m# Read the next chunk size from the file\u001b[39;00m\n\u001b[1;32m--> 533\u001b[0m     line \u001b[38;5;241m=\u001b[39m \u001b[38;5;28mself\u001b[39m\u001b[38;5;241m.\u001b[39mfp\u001b[38;5;241m.\u001b[39mreadline(_MAXLINE \u001b[38;5;241m+\u001b[39m \u001b[38;5;241m1\u001b[39m)\n\u001b[0;32m    534\u001b[0m     \u001b[38;5;28;01mif\u001b[39;00m \u001b[38;5;28mlen\u001b[39m(line) \u001b[38;5;241m>\u001b[39m _MAXLINE:\n\u001b[0;32m    535\u001b[0m         \u001b[38;5;28;01mraise\u001b[39;00m LineTooLong(\u001b[38;5;124m\"\u001b[39m\u001b[38;5;124mchunk size\u001b[39m\u001b[38;5;124m\"\u001b[39m)\n",
      "File \u001b[1;32m~\\anaconda3\\Lib\\socket.py:706\u001b[0m, in \u001b[0;36mSocketIO.readinto\u001b[1;34m(self, b)\u001b[0m\n\u001b[0;32m    704\u001b[0m \u001b[38;5;28;01mwhile\u001b[39;00m \u001b[38;5;28;01mTrue\u001b[39;00m:\n\u001b[0;32m    705\u001b[0m     \u001b[38;5;28;01mtry\u001b[39;00m:\n\u001b[1;32m--> 706\u001b[0m         \u001b[38;5;28;01mreturn\u001b[39;00m \u001b[38;5;28mself\u001b[39m\u001b[38;5;241m.\u001b[39m_sock\u001b[38;5;241m.\u001b[39mrecv_into(b)\n\u001b[0;32m    707\u001b[0m     \u001b[38;5;28;01mexcept\u001b[39;00m timeout:\n\u001b[0;32m    708\u001b[0m         \u001b[38;5;28mself\u001b[39m\u001b[38;5;241m.\u001b[39m_timeout_occurred \u001b[38;5;241m=\u001b[39m \u001b[38;5;28;01mTrue\u001b[39;00m\n",
      "\u001b[1;31mKeyboardInterrupt\u001b[0m: "
     ]
    }
   ],
   "source": [
    "import os\n",
    "import speech_recognition as sr\n",
    "from googletrans import Translator\n",
    "from pydub import AudioSegment\n",
    "\n",
    "def convert_wav_to_text(file_path, target_language='en'):\n",
    "    # Initialize recognizer and translator\n",
    "    recognizer = sr.Recognizer()\n",
    "    translator = Translator()\n",
    "\n",
    "    # Convert audio file to a format compatible with SpeechRecognition\n",
    "    audio = AudioSegment.from_wav(file_path)\n",
    "    temp_wav_file = \"temp.wav\"\n",
    "    audio.export(temp_wav_file, format=\"wav\")\n",
    "\n",
    "    # Convert speech to Kannada text\n",
    "    with sr.AudioFile(temp_wav_file) as source:\n",
    "        print(f\"Processing audio file: {file_path}\")\n",
    "        audio_data = recognizer.record(source)\n",
    "        try:\n",
    "            kannada_text = recognizer.recognize_google(audio_data, language=\"kn-IN\")\n",
    "            print(\"Recognized Kannada text:\", kannada_text)\n",
    "        except sr.UnknownValueError:\n",
    "            return \"Could not understand audio\"\n",
    "        except sr.RequestError as e:\n",
    "            return f\"Speech Recognition error: {e}\"\n",
    "\n",
    "    # Translate Kannada text to English\n",
    "    try:\n",
    "        return kannada_text\n",
    "    except Exception as e:\n",
    "        return f\"Translation error: {e}\"\n",
    "\n",
    "# Paths to input and output directories\n",
    "input_dir = \"../dataset/preprocessed/\"\n",
    "output_dir = \"../dataset/text/\"\n",
    "\n",
    "# Ensure output directory exists\n",
    "os.makedirs(output_dir, exist_ok=True)\n",
    "\n",
    "# Process all WAV files in the input directory\n",
    "for filename in os.listdir(input_dir):\n",
    "    if filename.endswith(\".wav\"):\n",
    "        input_file_path = os.path.join(input_dir, filename)\n",
    "        output_file_path = os.path.join(output_dir, f\"{os.path.splitext(filename)[0]}.txt\")\n",
    "\n",
    "        translated_text = convert_wav_to_text(input_file_path)\n",
    "        if translated_text:\n",
    "            # Save the transcription to the text file\n",
    "            with open(output_file_path, \"w\", encoding=\"utf-8\") as f:\n",
    "                f.write(translated_text)\n",
    "            print(f\"Transcription saved to {output_file_path}\")\n",
    "        else:\n",
    "            print(f\"Failed to process file: {filename}\")\n"
   ]
  },
  {
   "cell_type": "code",
   "execution_count": null,
   "id": "d2264096-a16f-475b-a7b2-4e640537273c",
   "metadata": {},
   "outputs": [],
   "source": []
  }
 ],
 "metadata": {
  "kernelspec": {
   "display_name": "Python 3 (ipykernel)",
   "language": "python",
   "name": "python3"
  },
  "language_info": {
   "codemirror_mode": {
    "name": "ipython",
    "version": 3
   },
   "file_extension": ".py",
   "mimetype": "text/x-python",
   "name": "python",
   "nbconvert_exporter": "python",
   "pygments_lexer": "ipython3",
   "version": "3.11.7"
  }
 },
 "nbformat": 4,
 "nbformat_minor": 5
}
