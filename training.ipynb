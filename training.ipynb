{
 "cells": [
  {
   "cell_type": "code",
   "execution_count": 1,
   "id": "273dd004-a388-42b8-bcd0-39c11e03d5eb",
   "metadata": {},
   "outputs": [
    {
     "name": "stdout",
     "output_type": "stream",
     "text": [
      "[\"In dry farming, sandalwood farming can be grown in the lowest water.This is a commercial name Sandalwood butt is not our Sandalwood. It is a Sandal Album. There is a Sandalwood Sandalwood that is about sixteen people in the Sampled cricket. Witch Is The Ideal Chemical Combination of Sandalwood Andre In the world of Sandalwood is available anywhere in the world, it is available in our Karnataka.Our Kannada Nadu Kannada Nadu Sandal Nadu Thousands of years ago, a thousand years ago, Andre's knowledge was amazing for thousands of years ago.There is a great contribution to the growth of groundwater but it is a scrub plant. This is a parasitic plant which is a bloody sandalwood download and the parasitic plant is a parasite parasite. It is a parasite kinri.Water and their here are amazing physical soils in the world We have recently had hundreds of acres of sandalwood Bertini and now we have 5,000 acres of 5,000 Biggest Sandalwood Sandalwood Cluster Koppal Trickstow India Biggest Sandalwood Sandalwood.Global Temperature Global Warming is a conference inside an AC room. Koppal district of our part of our part is a modest.This is how it is how it is, it is the biggest success stories for the whole world today 5000 acres in our Koppal district. Then the financial life is more financial life. Financial life is a good life. We must have a quality life. Today we have Sandalwood Central Forestry Model. There is no economic life.In addition, Andre's farmer is a social responsibility to manage the social responsibility of a social responsibility and become economically strong. Yak Nam elders are more than a crores of rupees.Because you are around a privileged party Lung trouble is that you have to get a full study modri korona and the power to face the Badry Coro.Corona is still a great Now you see that you see it now, Zero Dust Here.All of us are now a whole bunch of ours. Then there is no special concern for this atmosphere. There is no big investment. Now we are asking for a comment.I need a job I have a job today We all read in the state of Nodda Irtivi.The Vice President of the Association has laid the foundation of the National Phone Grounds Association for the Vice President of our father Borewell Idane can be grown in him.Sandalwood I'm telling you It is a land of sandalwood, but it is a huge price in the global market today. Sandalwood oil knows the future.It's two and a half lakhs In Karnataka, we should know two rates of 5 Lack Rupees per kg Today Karnataka Government is in Karnataka Today is a kilo sandalwood oil 5 Lakh. It is our dialogue content.According to the practice, the price of What is the Stretch of That Project What or The Weekness What is the Upper City Is and What or The Challengers Protection Protection Protection Protection Bikas It Has Big Price Large Price Large Price One Modtare It is not responsible for it. It is a public baby Public Public Property List You are not what you have come. Now you are all my Aadhaar number. Now you have your cover on camera.Development is the creation of the global market today Living in Global Globalization Globalization Today we have to do technology. No never Impossible. We need to take supplementary steps. Now we have the opportunities for us. You are not nodding. All Spaisy is not all about us. It is shooting yalakki yalaki. There is no coffee coffee. Andre should have a supportive atmosphere for Hinge. There is a golden bam Then you have to get all the episodes of the Bartiri Art Media.\"]\n"
     ]
    }
   ],
   "source": [
    "import os\n",
    "import re\n",
    "\n",
    "folder_path = 'C:/Users/Suvith Shetty/OneDrive/Documents/Hackathon/text'\n",
    "\n",
    "def clean_text(text):\n",
    "    text = re.sub(r'\\s+', ' ', text) \n",
    "    text = re.sub(r'[^a-zA-Z0-9\\s.,?!\\'\"₹\\u0C80-\\u0CFF]', '', text)  \n",
    "    text = text.strip()\n",
    "    return text\n",
    "\n",
    "def load_and_clean_text_files(folder_path):\n",
    "    cleaned_texts = []\n",
    "    \n",
    "    for filename in os.listdir(folder_path):\n",
    "        if filename.endswith('.txt'):\n",
    "            file_path = os.path.join(folder_path, filename)\n",
    "            with open(file_path, 'r', encoding='utf-8') as file:\n",
    "                text = file.read()\n",
    "                cleaned_text = clean_text(text)\n",
    "                cleaned_texts.append(cleaned_text)\n",
    "    \n",
    "    return cleaned_texts\n",
    "\n",
    "cleaned_texts = load_and_clean_text_files(folder_path)\n",
    "print(cleaned_texts[:1])  \n"
   ]
  },
  {
   "cell_type": "code",
   "execution_count": 2,
   "id": "a3744ef9-69bd-49e2-8243-8c8fd34c90ec",
   "metadata": {},
   "outputs": [
    {
     "name": "stdout",
     "output_type": "stream",
     "text": [
      "[\"In dry farming, sandalwood farming can be grown in the lowest water.This is a commercial name Sandalwood butt is not our Sandalwood. It is a Sandal Album. There is a Sandalwood Sandalwood that is about sixteen people in the Sampled cricket. Witch Is The Ideal Chemical Combination of Sandalwood Andre In the world of Sandalwood is available anywhere in the world, it is available in our Karnataka.Our Kannada Nadu Kannada Nadu Sandal Nadu Thousands of years ago, a thousand years ago, Andre's knowledge was amazing for thousands of years ago.There is a great contribution to the growth of groundwater but it is a scrub plant. This is a parasitic plant which is a bloody sandalwood download and the parasitic plant is a parasite parasite. It is a parasite kinri.Water and their here are amazing physical soils in the world We have recently had hundreds of acres of sandalwood Bertini and now we have 5,000 acres of 5,000 Biggest Sandalwood Sandalwood Cluster Koppal Trickstow India Biggest Sandalwood Sandalwood.Global Temperature Global Warming is a conference inside an AC room. Koppal district of our part of our part is a modest.This is how it is how it is, it is the biggest success stories for the whole world today 5000 acres in our Koppal district. Then the financial life is more financial life. Financial life is a good life. We must have a quality life. Today we have Sandalwood Central Forestry Model. There is no economic life.In addition, Andre's farmer is a social responsibility to manage the social responsibility of a social responsibility and become economically strong. Yak Nam elders are more than a crores of rupees.Because you are around a privileged party Lung trouble is that you have to get a full study modri korona and the power to face the Badry Coro.Corona is still a great Now you see that you see it now, Zero Dust Here.All of us are now a whole bunch of ours. Then there is no special concern for this atmosphere. There is no big investment. Now we are asking for a comment.I need a job I have a job today We all read in the state of Nodda Irtivi.The Vice President of the Association has laid the foundation of the National Phone Grounds Association for the Vice President of our father Borewell Idane can be grown in him.Sandalwood I'm telling you It is a land of sandalwood, but it is a huge price in the global market today. Sandalwood oil knows the future.It's two and a half lakhs In Karnataka, we should know two rates of 5 Lack Rupees per kg Today Karnataka Government is in Karnataka Today is a kilo sandalwood oil 5 Lakh. It is our dialogue content.According to the practice, the price of What is the Stretch of That Project What or The Weekness What is the Upper City Is and What or The Challengers Protection Protection Protection Protection Bikas It Has Big Price Large Price Large Price One Modtare It is not responsible for it. It is a public baby Public Public Property List You are not what you have come. Now you are all my Aadhaar number. Now you have your cover on camera.Development is the creation of the global market today Living in Global Globalization Globalization Today we have to do technology. No never Impossible. We need to take supplementary steps. Now we have the opportunities for us. You are not nodding. All Spaisy is not all about us. It is shooting yalakki yalaki. There is no coffee coffee. Andre should have a supportive atmosphere for Hinge. There is a golden bam Then you have to get all the episodes of the Bartiri Art Media.\", 'Now we have to do a noda plant yak.', \"Hi Welcome to the way today is in our rich garden. It is a year ago. We have developed a little from the plantation of the plantation. We get a reference.Then it is a year. Today it is a year.There may not be an information that may be the Exclusive Andre Complete Detail If you show your garden through Andre Video Calling Andre Video Calling We Consultation Kodteva Friends.Platform elements were a sugar cane for this field.Do not come to our yard. We should not come to our yard. This sandalwood is a complete flame. Our sapling is a complete flower for a year. Andre Growth is very fast.There is no chemical hoodita. When there is a cane plantation, there is a lot of moisture in our yard when the water is left in the same way.See All the Growth Evan is that it should be achievement. Every time I say, I am very important. Motherland is very important.Otherwise your grotes are a small one is a big and chans. Another host is when we give it a beautiful garden when you can do a beautiful garden.In the comment, then the other part of it comes to the friends.A Benefit Ugly Anno is a video for a purpose here. Here's this plant. Look at the color of the leaf shape. Friends are the same.No matter what feedback from our team is a beautiful garden developing.Now let's see what our farmers say When Jewelers Planning August 15 Andre One year From the bare coriander to sir bare kotambari you remove all the spending of the bidri start now. A little plant fungus is attack. Well okay.We do not raise the phone.When we do all the work we do, it's time. This video is the first part of this planting time.We have shown to the people of this town to the part of the town.You can modify the Baber Fencing. Give a plan to you Executed Modtare Friends OK Like Like Video Like Like Channel Share\", 'Sustainable farming is a parasite of the other modesty, which is a parasite, and it is a parasite that is not a parasite.Along with the root of different plants, it is now coming to you. Golden Seethappa is not a rate. Tomatoes may be 10 tonnes per acre.', 'What is crops what Cotre is']\n"
     ]
    }
   ],
   "source": [
    "def split_into_paragraphs(text):\n",
    "    paragraphs = text.split('\\n')\n",
    "    paragraphs = [para.strip() for para in paragraphs if para.strip()]\n",
    "    return paragraphs\n",
    "\n",
    "all_paragraphs = []\n",
    "for cleaned_text in cleaned_texts:\n",
    "    paragraphs = split_into_paragraphs(cleaned_text)\n",
    "    all_paragraphs.extend(paragraphs)\n",
    "\n",
    "print(all_paragraphs[:5]) \n"
   ]
  },
  {
   "cell_type": "code",
   "execution_count": 3,
   "id": "7b1d550c-58fc-43b0-a1b1-5d439a7e9579",
   "metadata": {},
   "outputs": [
    {
     "name": "stdout",
     "output_type": "stream",
     "text": [
      "WARNING:tensorflow:From C:\\Users\\Suvith Shetty\\AppData\\Local\\Programs\\Python\\Python312\\Lib\\site-packages\\tf_keras\\src\\losses.py:2976: The name tf.losses.sparse_softmax_cross_entropy is deprecated. Please use tf.compat.v1.losses.sparse_softmax_cross_entropy instead.\n",
      "\n",
      "Best matching paragraph:\n",
      "Farmers who are born in the sandalwood hut You can't talk about crores of agriculture.It was also known as the largest sandalwood producer in the 1960s. The atmosphere is also a market for sandalwood by 2026.Agricultural Course Designed Anna. Encouragement.You can also learn to complete sandalwood cultivation through various models. This course is a certificate for the Freedom App Market Place.If so, you should also cultivate sandalwood and earn crores of rupees.\n"
     ]
    }
   ],
   "source": [
    "from sentence_transformers import SentenceTransformer, util\n",
    "\n",
    "model = SentenceTransformer('paraphrase-multilingual-MiniLM-L12-v2')\n",
    "\n",
    "paragraph_embeddings = model.encode(all_paragraphs, convert_to_tensor=True)\n",
    "\n",
    "question = \"What is sandalwood cultivation?\"\n",
    "\n",
    "question_embedding = model.encode(question, convert_to_tensor=True)\n",
    "\n",
    "cosine_scores = util.pytorch_cos_sim(question_embedding, paragraph_embeddings)\n",
    "best_match_idx = cosine_scores.argmax()\n",
    "\n",
    "print(f\"Best matching paragraph:\\n{all_paragraphs[best_match_idx]}\")\n"
   ]
  },
  {
   "cell_type": "code",
   "execution_count": 4,
   "id": "4e1b339c-bb24-4f0c-b079-72ac6fce6134",
   "metadata": {},
   "outputs": [
    {
     "name": "stderr",
     "output_type": "stream",
     "text": [
      "Some weights of T5ForQuestionAnswering were not initialized from the model checkpoint at t5-small and are newly initialized: ['qa_outputs.bias', 'qa_outputs.weight']\n",
      "You should probably TRAIN this model on a down-stream task to be able to use it for predictions and inference.\n"
     ]
    },
    {
     "name": "stdout",
     "output_type": "stream",
     "text": [
      "Answer: hut You can't talk about crores\n"
     ]
    }
   ],
   "source": [
    "from transformers import pipeline\n",
    "\n",
    "qa_pipeline = pipeline(\"question-answering\", model=\"t5-small\", tokenizer=\"t5-small\")\n",
    "\n",
    "context = all_paragraphs[best_match_idx]\n",
    "answer = qa_pipeline(question=question, context=context)\n",
    "\n",
    "print(f\"Answer: {answer['answer']}\")"
   ]
  },
  {
   "cell_type": "code",
   "execution_count": 5,
   "id": "f434727b-6cd5-4bd4-af11-9dc08dcf11fb",
   "metadata": {},
   "outputs": [
    {
     "name": "stdout",
     "output_type": "stream",
     "text": [
      "Answer: hut You can't talk about crores\n"
     ]
    }
   ],
   "source": [
    "def question_answer_pipeline(question, folder_path):\n",
    "    cleaned_texts = load_and_clean_text_files(folder_path)\n",
    "    \n",
    "    all_paragraphs = []\n",
    "    for cleaned_text in cleaned_texts:\n",
    "        paragraphs = split_into_paragraphs(cleaned_text)\n",
    "        all_paragraphs.extend(paragraphs)\n",
    "    \n",
    "    paragraph_embeddings = model.encode(all_paragraphs, convert_to_tensor=True)\n",
    "    question_embedding = model.encode(question, convert_to_tensor=True)\n",
    "    \n",
    "    cosine_scores = util.pytorch_cos_sim(question_embedding, paragraph_embeddings)\n",
    "    best_match_idx = cosine_scores.argmax()\n",
    "    \n",
    "    context = all_paragraphs[best_match_idx]\n",
    "    answer = qa_pipeline(question=question, context=context)\n",
    "    \n",
    "    return answer['answer']\n",
    "\n",
    "folder_path = 'C:/Users/Suvith Shetty/OneDrive/Documents/Hackathon/text'\n",
    "question = \"What is sandalwood cultivation?\"\n",
    "answer = question_answer_pipeline(question, folder_path)\n",
    "print(f\"Answer: {answer}\")"
   ]
  },
  {
   "cell_type": "code",
   "execution_count": 6,
   "id": "da076b28-fc62-499c-9ef6-0a16ccd831a7",
   "metadata": {},
   "outputs": [
    {
     "name": "stdout",
     "output_type": "stream",
     "text": [
      "Answer: Economics of Sandal, we have a Sandal Complex Telekondre\n"
     ]
    }
   ],
   "source": [
    "question = \"When Water is not Enough?\"\n",
    "answer = question_answer_pipeline(question, folder_path)\n",
    "print(f\"Answer: {answer}\")"
   ]
  },
  {
   "cell_type": "code",
   "execution_count": 7,
   "id": "ebb95bfa-c528-4d7c-86c2-245c23cd5ad4",
   "metadata": {},
   "outputs": [
    {
     "name": "stdout",
     "output_type": "stream",
     "text": [
      "Answer: every month every month. In an acre of sandalwood\n"
     ]
    }
   ],
   "source": [
    "question = \"Pesticides\"\n",
    "answer = question_answer_pipeline(question, folder_path)\n",
    "print(f\"Answer: {answer}\")"
   ]
  },
  {
   "cell_type": "code",
   "execution_count": 8,
   "id": "c5696f2d-5fc7-4f6f-9752-3431c9e6ea47",
   "metadata": {},
   "outputs": [],
   "source": [
    "model.save('sentence_transformer_model')"
   ]
  },
  {
   "cell_type": "code",
   "execution_count": 9,
   "id": "5eea7272-3cff-41c2-9f66-156a226940a7",
   "metadata": {},
   "outputs": [
    {
     "data": {
      "text/plain": [
       "('qa_model\\\\tokenizer_config.json',\n",
       " 'qa_model\\\\special_tokens_map.json',\n",
       " 'qa_model\\\\tokenizer.json')"
      ]
     },
     "execution_count": 9,
     "metadata": {},
     "output_type": "execute_result"
    }
   ],
   "source": [
    "qa_pipeline.model.save_pretrained('qa_model')\n",
    "qa_pipeline.tokenizer.save_pretrained('qa_model')"
   ]
  },
  {
   "cell_type": "code",
   "execution_count": 10,
   "id": "69a537fe-09b3-4962-9f6d-4bdfd32f1875",
   "metadata": {},
   "outputs": [],
   "source": [
    "from sentence_transformers import SentenceTransformer\n",
    "from transformers import pipeline, AutoModelForQuestionAnswering, AutoTokenizer\n",
    "\n",
    "model = SentenceTransformer('sentence_transformer_model')\n",
    "\n",
    "qa_model = AutoModelForQuestionAnswering.from_pretrained('qa_model')\n",
    "tokenizer = AutoTokenizer.from_pretrained('qa_model')\n",
    "qa_pipeline = pipeline(\"question-answering\", model=qa_model, tokenizer=tokenizer)\n"
   ]
  },
  {
   "cell_type": "code",
   "execution_count": 11,
   "id": "7fe0b043-2fba-4c12-b389-3c1ea8b7f73d",
   "metadata": {},
   "outputs": [],
   "source": [
    "import pickle\n",
    "import torch\n",
    "\n",
    "with open('paragraph_embeddings.pkl', 'wb') as f:\n",
    "    pickle.dump(paragraph_embeddings, f)\n",
    "\n",
    "with open('paragraph_embeddings.pkl', 'rb') as f:\n",
    "    paragraph_embeddings = pickle.load(f)"
   ]
  },
  {
   "cell_type": "code",
   "execution_count": 12,
   "id": "654bcf82-fb5f-42b1-834a-ca2da843a2aa",
   "metadata": {},
   "outputs": [
    {
     "data": {
      "text/plain": [
       "('saved_models/qa_model\\\\tokenizer_config.json',\n",
       " 'saved_models/qa_model\\\\special_tokens_map.json',\n",
       " 'saved_models/qa_model\\\\tokenizer.json')"
      ]
     },
     "execution_count": 12,
     "metadata": {},
     "output_type": "execute_result"
    }
   ],
   "source": [
    "model.save('saved_models/sentence_transformer')\n",
    "qa_pipeline.model.save_pretrained('saved_models/qa_model')\n",
    "qa_pipeline.tokenizer.save_pretrained('saved_models/qa_model')\n"
   ]
  },
  {
   "cell_type": "code",
   "execution_count": 13,
   "id": "a06ab869-29d4-40bb-a2a8-78c2ee6e470c",
   "metadata": {},
   "outputs": [],
   "source": [
    "model = SentenceTransformer('saved_models/sentence_transformer')\n",
    "qa_model = AutoModelForQuestionAnswering.from_pretrained('saved_models/qa_model')\n",
    "tokenizer = AutoTokenizer.from_pretrained('saved_models/qa_model')\n",
    "qa_pipeline = pipeline(\"question-answering\", model=qa_model, tokenizer=tokenizer)"
   ]
  },
  {
   "cell_type": "code",
   "execution_count": null,
   "id": "cbd21b53-e75a-4b94-8efc-fcb707f5116e",
   "metadata": {},
   "outputs": [],
   "source": []
  }
 ],
 "metadata": {
  "kernelspec": {
   "display_name": "Python 3 (ipykernel)",
   "language": "python",
   "name": "python3"
  },
  "language_info": {
   "codemirror_mode": {
    "name": "ipython",
    "version": 3
   },
   "file_extension": ".py",
   "mimetype": "text/x-python",
   "name": "python",
   "nbconvert_exporter": "python",
   "pygments_lexer": "ipython3",
   "version": "3.12.3"
  }
 },
 "nbformat": 4,
 "nbformat_minor": 5
}
