{
 "cells": [
  {
   "cell_type": "code",
   "execution_count": 5,
   "id": "f32b6056-a542-4574-90ab-49932064582b",
   "metadata": {},
   "outputs": [
    {
     "name": "stdout",
     "output_type": "stream",
     "text": [
      "MoviePy - Writing audio in ../wav_data/SandalWoodNewsStories_1.wav\n"
     ]
    },
    {
     "name": "stderr",
     "output_type": "stream",
     "text": [
      "                                                                                                                       \r"
     ]
    },
    {
     "name": "stdout",
     "output_type": "stream",
     "text": [
      "MoviePy - Done.\n",
      "Converted: SandalWoodNewsStories_1.mp3 to SandalWoodNewsStories_1.wav\n",
      "MoviePy - Writing audio in ../wav_data/SandalWoodNewsStories_107.wav\n"
     ]
    },
    {
     "name": "stderr",
     "output_type": "stream",
     "text": [
      "                                                                                                                       \r"
     ]
    },
    {
     "name": "stdout",
     "output_type": "stream",
     "text": [
      "MoviePy - Done.\n",
      "Converted: SandalWoodNewsStories_107.mp3 to SandalWoodNewsStories_107.wav\n",
      "MoviePy - Writing audio in ../wav_data/SandalWoodNewsStories_112.wav\n"
     ]
    },
    {
     "name": "stderr",
     "output_type": "stream",
     "text": [
      "                                                                                                                       \r"
     ]
    },
    {
     "name": "stdout",
     "output_type": "stream",
     "text": [
      "MoviePy - Done.\n",
      "Converted: SandalWoodNewsStories_112.mp3 to SandalWoodNewsStories_112.wav\n",
      "MoviePy - Writing audio in ../wav_data/SandalWoodNewsStories_144.wav\n"
     ]
    },
    {
     "name": "stderr",
     "output_type": "stream",
     "text": [
      "                                                                                                                       \r"
     ]
    },
    {
     "name": "stdout",
     "output_type": "stream",
     "text": [
      "MoviePy - Done.\n",
      "Converted: SandalWoodNewsStories_144.mp3 to SandalWoodNewsStories_144.wav\n",
      "MoviePy - Writing audio in ../wav_data/SandalWoodNewsStories_146.wav\n"
     ]
    },
    {
     "name": "stderr",
     "output_type": "stream",
     "text": [
      "                                                                                                                       \r"
     ]
    },
    {
     "name": "stdout",
     "output_type": "stream",
     "text": [
      "MoviePy - Done.\n",
      "Converted: SandalWoodNewsStories_146.mp3 to SandalWoodNewsStories_146.wav\n",
      "MoviePy - Writing audio in ../wav_data/SandalWoodNewsStories_148.wav\n"
     ]
    },
    {
     "name": "stderr",
     "output_type": "stream",
     "text": [
      "                                                                                                                       \r"
     ]
    },
    {
     "name": "stdout",
     "output_type": "stream",
     "text": [
      "MoviePy - Done.\n",
      "Converted: SandalWoodNewsStories_148.mp3 to SandalWoodNewsStories_148.wav\n",
      "MoviePy - Writing audio in ../wav_data/SandalWoodNewsStories_156.wav\n"
     ]
    },
    {
     "name": "stderr",
     "output_type": "stream",
     "text": [
      "                                                                                                                       \r"
     ]
    },
    {
     "name": "stdout",
     "output_type": "stream",
     "text": [
      "MoviePy - Done.\n",
      "Converted: SandalWoodNewsStories_156.mp3 to SandalWoodNewsStories_156.wav\n",
      "MoviePy - Writing audio in ../wav_data/SandalWoodNewsStories_158.wav\n"
     ]
    },
    {
     "name": "stderr",
     "output_type": "stream",
     "text": [
      "                                                                                                                       \r"
     ]
    },
    {
     "name": "stdout",
     "output_type": "stream",
     "text": [
      "MoviePy - Done.\n",
      "Converted: SandalWoodNewsStories_158.mp3 to SandalWoodNewsStories_158.wav\n",
      "MoviePy - Writing audio in ../wav_data/SandalWoodNewsStories_159.wav\n"
     ]
    },
    {
     "name": "stderr",
     "output_type": "stream",
     "text": [
      "                                                                                                                       \r"
     ]
    },
    {
     "name": "stdout",
     "output_type": "stream",
     "text": [
      "MoviePy - Done.\n",
      "Converted: SandalWoodNewsStories_159.mp3 to SandalWoodNewsStories_159.wav\n",
      "MoviePy - Writing audio in ../wav_data/SandalWoodNewsStories_167.wav\n"
     ]
    },
    {
     "name": "stderr",
     "output_type": "stream",
     "text": [
      "                                                                                                                       \r"
     ]
    },
    {
     "name": "stdout",
     "output_type": "stream",
     "text": [
      "MoviePy - Done.\n",
      "Converted: SandalWoodNewsStories_167.mp3 to SandalWoodNewsStories_167.wav\n",
      "MoviePy - Writing audio in ../wav_data/SandalWoodNewsStories_168.wav\n"
     ]
    },
    {
     "name": "stderr",
     "output_type": "stream",
     "text": [
      "                                                                                                                       \r"
     ]
    },
    {
     "name": "stdout",
     "output_type": "stream",
     "text": [
      "MoviePy - Done.\n",
      "Converted: SandalWoodNewsStories_168.mp3 to SandalWoodNewsStories_168.wav\n",
      "MoviePy - Writing audio in ../wav_data/SandalWoodNewsStories_169.wav\n"
     ]
    },
    {
     "name": "stderr",
     "output_type": "stream",
     "text": [
      "                                                                                                                       \r"
     ]
    },
    {
     "name": "stdout",
     "output_type": "stream",
     "text": [
      "MoviePy - Done.\n",
      "Converted: SandalWoodNewsStories_169.mp3 to SandalWoodNewsStories_169.wav\n",
      "MoviePy - Writing audio in ../wav_data/SandalWoodNewsStories_171.wav\n"
     ]
    },
    {
     "name": "stderr",
     "output_type": "stream",
     "text": [
      "                                                                                                                       \r"
     ]
    },
    {
     "name": "stdout",
     "output_type": "stream",
     "text": [
      "MoviePy - Done.\n",
      "Converted: SandalWoodNewsStories_171.mp3 to SandalWoodNewsStories_171.wav\n",
      "MoviePy - Writing audio in ../wav_data/SandalWoodNewsStories_172.wav\n"
     ]
    },
    {
     "name": "stderr",
     "output_type": "stream",
     "text": [
      "                                                                                                                       \r"
     ]
    },
    {
     "name": "stdout",
     "output_type": "stream",
     "text": [
      "MoviePy - Done.\n",
      "Converted: SandalWoodNewsStories_172.mp3 to SandalWoodNewsStories_172.wav\n",
      "MoviePy - Writing audio in ../wav_data/SandalWoodNewsStories_173.wav\n"
     ]
    },
    {
     "name": "stderr",
     "output_type": "stream",
     "text": [
      "                                                                                                                       \r"
     ]
    },
    {
     "name": "stdout",
     "output_type": "stream",
     "text": [
      "MoviePy - Done.\n",
      "Converted: SandalWoodNewsStories_173.mp3 to SandalWoodNewsStories_173.wav\n",
      "MoviePy - Writing audio in ../wav_data/SandalWoodNewsStories_174.wav\n"
     ]
    },
    {
     "name": "stderr",
     "output_type": "stream",
     "text": [
      "                                                                                                                       \r"
     ]
    },
    {
     "name": "stdout",
     "output_type": "stream",
     "text": [
      "MoviePy - Done.\n",
      "Converted: SandalWoodNewsStories_174.mp3 to SandalWoodNewsStories_174.wav\n",
      "MoviePy - Writing audio in ../wav_data/SandalWoodNewsStories_175.wav\n"
     ]
    },
    {
     "name": "stderr",
     "output_type": "stream",
     "text": [
      "                                                                                                                       \r"
     ]
    },
    {
     "name": "stdout",
     "output_type": "stream",
     "text": [
      "MoviePy - Done.\n",
      "Converted: SandalWoodNewsStories_175.mp3 to SandalWoodNewsStories_175.wav\n",
      "MoviePy - Writing audio in ../wav_data/SandalWoodNewsStories_176.wav\n"
     ]
    },
    {
     "name": "stderr",
     "output_type": "stream",
     "text": [
      "                                                                                                                       \r"
     ]
    },
    {
     "name": "stdout",
     "output_type": "stream",
     "text": [
      "MoviePy - Done.\n",
      "Converted: SandalWoodNewsStories_176.mp3 to SandalWoodNewsStories_176.wav\n",
      "MoviePy - Writing audio in ../wav_data/SandalWoodNewsStories_179.wav\n"
     ]
    },
    {
     "name": "stderr",
     "output_type": "stream",
     "text": [
      "                                                                                                                       \r"
     ]
    },
    {
     "name": "stdout",
     "output_type": "stream",
     "text": [
      "MoviePy - Done.\n",
      "Converted: SandalWoodNewsStories_179.mp3 to SandalWoodNewsStories_179.wav\n",
      "MoviePy - Writing audio in ../wav_data/SandalWoodNewsStories_181.wav\n"
     ]
    },
    {
     "name": "stderr",
     "output_type": "stream",
     "text": [
      "                                                                                                                       \r"
     ]
    },
    {
     "name": "stdout",
     "output_type": "stream",
     "text": [
      "MoviePy - Done.\n",
      "Converted: SandalWoodNewsStories_181.mp3 to SandalWoodNewsStories_181.wav\n",
      "MoviePy - Writing audio in ../wav_data/SandalWoodNewsStories_184.wav\n"
     ]
    },
    {
     "name": "stderr",
     "output_type": "stream",
     "text": [
      "                                                                                                                       \r"
     ]
    },
    {
     "name": "stdout",
     "output_type": "stream",
     "text": [
      "MoviePy - Done.\n",
      "Converted: SandalWoodNewsStories_184.mp3 to SandalWoodNewsStories_184.wav\n",
      "MoviePy - Writing audio in ../wav_data/SandalWoodNewsStories_191.wav\n"
     ]
    },
    {
     "name": "stderr",
     "output_type": "stream",
     "text": [
      "                                                                                                                       \r"
     ]
    },
    {
     "name": "stdout",
     "output_type": "stream",
     "text": [
      "MoviePy - Done.\n",
      "Converted: SandalWoodNewsStories_191.mp3 to SandalWoodNewsStories_191.wav\n",
      "MoviePy - Writing audio in ../wav_data/SandalWoodNewsStories_197.wav\n"
     ]
    },
    {
     "name": "stderr",
     "output_type": "stream",
     "text": [
      "                                                                                                                       \r"
     ]
    },
    {
     "name": "stdout",
     "output_type": "stream",
     "text": [
      "MoviePy - Done.\n",
      "Converted: SandalWoodNewsStories_197.mp3 to SandalWoodNewsStories_197.wav\n",
      "MoviePy - Writing audio in ../wav_data/SandalWoodNewsStories_2.wav\n"
     ]
    },
    {
     "name": "stderr",
     "output_type": "stream",
     "text": [
      "                                                                                                                       \r"
     ]
    },
    {
     "name": "stdout",
     "output_type": "stream",
     "text": [
      "MoviePy - Done.\n",
      "Converted: SandalWoodNewsStories_2.mp3 to SandalWoodNewsStories_2.wav\n",
      "MoviePy - Writing audio in ../wav_data/SandalWoodNewsStories_200.wav\n"
     ]
    },
    {
     "name": "stderr",
     "output_type": "stream",
     "text": [
      "                                                                                                                       \r"
     ]
    },
    {
     "name": "stdout",
     "output_type": "stream",
     "text": [
      "MoviePy - Done.\n",
      "Converted: SandalWoodNewsStories_200.mp3 to SandalWoodNewsStories_200.wav\n",
      "MoviePy - Writing audio in ../wav_data/SandalWoodNewsStories_211.wav\n"
     ]
    },
    {
     "name": "stderr",
     "output_type": "stream",
     "text": [
      "                                                                                                                       \r"
     ]
    },
    {
     "name": "stdout",
     "output_type": "stream",
     "text": [
      "MoviePy - Done.\n",
      "Converted: SandalWoodNewsStories_211.mp3 to SandalWoodNewsStories_211.wav\n",
      "MoviePy - Writing audio in ../wav_data/SandalWoodNewsStories_215.wav\n"
     ]
    },
    {
     "name": "stderr",
     "output_type": "stream",
     "text": [
      "                                                                                                                       \r"
     ]
    },
    {
     "name": "stdout",
     "output_type": "stream",
     "text": [
      "MoviePy - Done.\n",
      "Converted: SandalWoodNewsStories_215.mp3 to SandalWoodNewsStories_215.wav\n",
      "MoviePy - Writing audio in ../wav_data/SandalWoodNewsStories_223.wav\n"
     ]
    },
    {
     "name": "stderr",
     "output_type": "stream",
     "text": [
      "                                                                                                                       \r"
     ]
    },
    {
     "name": "stdout",
     "output_type": "stream",
     "text": [
      "MoviePy - Done.\n",
      "Converted: SandalWoodNewsStories_223.mp3 to SandalWoodNewsStories_223.wav\n",
      "MoviePy - Writing audio in ../wav_data/SandalWoodNewsStories_229.wav\n"
     ]
    },
    {
     "name": "stderr",
     "output_type": "stream",
     "text": [
      "                                                                                                                       \r"
     ]
    },
    {
     "name": "stdout",
     "output_type": "stream",
     "text": [
      "MoviePy - Done.\n",
      "Converted: SandalWoodNewsStories_229.mp3 to SandalWoodNewsStories_229.wav\n",
      "MoviePy - Writing audio in ../wav_data/SandalWoodNewsStories_23.wav\n"
     ]
    },
    {
     "name": "stderr",
     "output_type": "stream",
     "text": [
      "                                                                                                                       \r"
     ]
    },
    {
     "name": "stdout",
     "output_type": "stream",
     "text": [
      "MoviePy - Done.\n",
      "Converted: SandalWoodNewsStories_23.mp3 to SandalWoodNewsStories_23.wav\n",
      "MoviePy - Writing audio in ../wav_data/SandalWoodNewsStories_230.wav\n"
     ]
    },
    {
     "name": "stderr",
     "output_type": "stream",
     "text": [
      "                                                                                                                       \r"
     ]
    },
    {
     "name": "stdout",
     "output_type": "stream",
     "text": [
      "MoviePy - Done.\n",
      "Converted: SandalWoodNewsStories_230.mp3 to SandalWoodNewsStories_230.wav\n",
      "MoviePy - Writing audio in ../wav_data/SandalWoodNewsStories_239.wav\n"
     ]
    },
    {
     "name": "stderr",
     "output_type": "stream",
     "text": [
      "                                                                                                                       \r"
     ]
    },
    {
     "name": "stdout",
     "output_type": "stream",
     "text": [
      "MoviePy - Done.\n",
      "Converted: SandalWoodNewsStories_239.mp3 to SandalWoodNewsStories_239.wav\n",
      "MoviePy - Writing audio in ../wav_data/SandalWoodNewsStories_242.wav\n"
     ]
    },
    {
     "name": "stderr",
     "output_type": "stream",
     "text": [
      "                                                                                                                       \r"
     ]
    },
    {
     "name": "stdout",
     "output_type": "stream",
     "text": [
      "MoviePy - Done.\n",
      "Converted: SandalWoodNewsStories_242.mp3 to SandalWoodNewsStories_242.wav\n",
      "MoviePy - Writing audio in ../wav_data/SandalWoodNewsStories_249.wav\n"
     ]
    },
    {
     "name": "stderr",
     "output_type": "stream",
     "text": [
      "                                                                                                                       \r"
     ]
    },
    {
     "name": "stdout",
     "output_type": "stream",
     "text": [
      "MoviePy - Done.\n",
      "Converted: SandalWoodNewsStories_249.mp3 to SandalWoodNewsStories_249.wav\n",
      "MoviePy - Writing audio in ../wav_data/SandalWoodNewsStories_257.wav\n"
     ]
    },
    {
     "name": "stderr",
     "output_type": "stream",
     "text": [
      "                                                                                                                       \r"
     ]
    },
    {
     "name": "stdout",
     "output_type": "stream",
     "text": [
      "MoviePy - Done.\n",
      "Converted: SandalWoodNewsStories_257.mp3 to SandalWoodNewsStories_257.wav\n",
      "MoviePy - Writing audio in ../wav_data/SandalWoodNewsStories_278.wav\n"
     ]
    },
    {
     "name": "stderr",
     "output_type": "stream",
     "text": [
      "                                                                                                                       \r"
     ]
    },
    {
     "name": "stdout",
     "output_type": "stream",
     "text": [
      "MoviePy - Done.\n",
      "Converted: SandalWoodNewsStories_278.mp3 to SandalWoodNewsStories_278.wav\n",
      "MoviePy - Writing audio in ../wav_data/SandalWoodNewsStories_279.wav\n"
     ]
    },
    {
     "name": "stderr",
     "output_type": "stream",
     "text": [
      "                                                                                                                       \r"
     ]
    },
    {
     "name": "stdout",
     "output_type": "stream",
     "text": [
      "MoviePy - Done.\n",
      "Converted: SandalWoodNewsStories_279.mp3 to SandalWoodNewsStories_279.wav\n",
      "MoviePy - Writing audio in ../wav_data/SandalWoodNewsStories_280.wav\n"
     ]
    },
    {
     "name": "stderr",
     "output_type": "stream",
     "text": [
      "                                                                                                                       \r"
     ]
    },
    {
     "name": "stdout",
     "output_type": "stream",
     "text": [
      "MoviePy - Done.\n",
      "Converted: SandalWoodNewsStories_280.mp3 to SandalWoodNewsStories_280.wav\n",
      "MoviePy - Writing audio in ../wav_data/SandalWoodNewsStories_282.wav\n"
     ]
    },
    {
     "name": "stderr",
     "output_type": "stream",
     "text": [
      "                                                                                                                       \r"
     ]
    },
    {
     "name": "stdout",
     "output_type": "stream",
     "text": [
      "MoviePy - Done.\n",
      "Converted: SandalWoodNewsStories_282.mp3 to SandalWoodNewsStories_282.wav\n",
      "MoviePy - Writing audio in ../wav_data/SandalWoodNewsStories_283.wav\n"
     ]
    },
    {
     "name": "stderr",
     "output_type": "stream",
     "text": [
      "                                                                                                                       \r"
     ]
    },
    {
     "name": "stdout",
     "output_type": "stream",
     "text": [
      "MoviePy - Done.\n",
      "Converted: SandalWoodNewsStories_283.mp3 to SandalWoodNewsStories_283.wav\n",
      "MoviePy - Writing audio in ../wav_data/SandalWoodNewsStories_284.wav\n"
     ]
    },
    {
     "name": "stderr",
     "output_type": "stream",
     "text": [
      "                                                                                                                       \r"
     ]
    },
    {
     "name": "stdout",
     "output_type": "stream",
     "text": [
      "MoviePy - Done.\n",
      "Converted: SandalWoodNewsStories_284.mp3 to SandalWoodNewsStories_284.wav\n",
      "MoviePy - Writing audio in ../wav_data/SandalWoodNewsStories_286.wav\n"
     ]
    },
    {
     "name": "stderr",
     "output_type": "stream",
     "text": [
      "                                                                                                                       \r"
     ]
    },
    {
     "name": "stdout",
     "output_type": "stream",
     "text": [
      "MoviePy - Done.\n",
      "Converted: SandalWoodNewsStories_286.mp3 to SandalWoodNewsStories_286.wav\n",
      "MoviePy - Writing audio in ../wav_data/SandalWoodNewsStories_287.wav\n"
     ]
    },
    {
     "name": "stderr",
     "output_type": "stream",
     "text": [
      "                                                                                                                       \r"
     ]
    },
    {
     "name": "stdout",
     "output_type": "stream",
     "text": [
      "MoviePy - Done.\n",
      "Converted: SandalWoodNewsStories_287.mp3 to SandalWoodNewsStories_287.wav\n",
      "MoviePy - Writing audio in ../wav_data/SandalWoodNewsStories_291.wav\n"
     ]
    },
    {
     "name": "stderr",
     "output_type": "stream",
     "text": [
      "                                                                                                                       \r"
     ]
    },
    {
     "name": "stdout",
     "output_type": "stream",
     "text": [
      "MoviePy - Done.\n",
      "Converted: SandalWoodNewsStories_291.mp3 to SandalWoodNewsStories_291.wav\n",
      "MoviePy - Writing audio in ../wav_data/SandalWoodNewsStories_294.wav\n"
     ]
    },
    {
     "name": "stderr",
     "output_type": "stream",
     "text": [
      "                                                                                                                       \r"
     ]
    },
    {
     "name": "stdout",
     "output_type": "stream",
     "text": [
      "MoviePy - Done.\n",
      "Converted: SandalWoodNewsStories_294.mp3 to SandalWoodNewsStories_294.wav\n",
      "MoviePy - Writing audio in ../wav_data/SandalWoodNewsStories_295.wav\n"
     ]
    },
    {
     "name": "stderr",
     "output_type": "stream",
     "text": [
      "                                                                                                                       \r"
     ]
    },
    {
     "name": "stdout",
     "output_type": "stream",
     "text": [
      "MoviePy - Done.\n",
      "Converted: SandalWoodNewsStories_295.mp3 to SandalWoodNewsStories_295.wav\n",
      "MoviePy - Writing audio in ../wav_data/SandalWoodNewsStories_296.wav\n"
     ]
    },
    {
     "name": "stderr",
     "output_type": "stream",
     "text": [
      "                                                                                                                       \r"
     ]
    },
    {
     "name": "stdout",
     "output_type": "stream",
     "text": [
      "MoviePy - Done.\n",
      "Converted: SandalWoodNewsStories_296.mp3 to SandalWoodNewsStories_296.wav\n",
      "MoviePy - Writing audio in ../wav_data/SandalWoodNewsStories_297.wav\n"
     ]
    },
    {
     "name": "stderr",
     "output_type": "stream",
     "text": [
      "                                                                                                                       \r"
     ]
    },
    {
     "name": "stdout",
     "output_type": "stream",
     "text": [
      "MoviePy - Done.\n",
      "Converted: SandalWoodNewsStories_297.mp3 to SandalWoodNewsStories_297.wav\n",
      "MoviePy - Writing audio in ../wav_data/SandalWoodNewsStories_298.wav\n"
     ]
    },
    {
     "name": "stderr",
     "output_type": "stream",
     "text": [
      "                                                                                                                       \r"
     ]
    },
    {
     "name": "stdout",
     "output_type": "stream",
     "text": [
      "MoviePy - Done.\n",
      "Converted: SandalWoodNewsStories_298.mp3 to SandalWoodNewsStories_298.wav\n",
      "MoviePy - Writing audio in ../wav_data/SandalWoodNewsStories_299.wav\n"
     ]
    },
    {
     "name": "stderr",
     "output_type": "stream",
     "text": [
      "                                                                                                                       \r"
     ]
    },
    {
     "name": "stdout",
     "output_type": "stream",
     "text": [
      "MoviePy - Done.\n",
      "Converted: SandalWoodNewsStories_299.mp3 to SandalWoodNewsStories_299.wav\n",
      "MoviePy - Writing audio in ../wav_data/SandalWoodNewsStories_303.wav\n"
     ]
    },
    {
     "name": "stderr",
     "output_type": "stream",
     "text": [
      "                                                                                                                       \r"
     ]
    },
    {
     "name": "stdout",
     "output_type": "stream",
     "text": [
      "MoviePy - Done.\n",
      "Converted: SandalWoodNewsStories_303.mp3 to SandalWoodNewsStories_303.wav\n",
      "MoviePy - Writing audio in ../wav_data/SandalWoodNewsStories_304.wav\n"
     ]
    },
    {
     "name": "stderr",
     "output_type": "stream",
     "text": [
      "                                                                                                                       \r"
     ]
    },
    {
     "name": "stdout",
     "output_type": "stream",
     "text": [
      "MoviePy - Done.\n",
      "Converted: SandalWoodNewsStories_304.mp3 to SandalWoodNewsStories_304.wav\n",
      "MoviePy - Writing audio in ../wav_data/SandalWoodNewsStories_305.wav\n"
     ]
    },
    {
     "name": "stderr",
     "output_type": "stream",
     "text": [
      "                                                                                                                       \r"
     ]
    },
    {
     "name": "stdout",
     "output_type": "stream",
     "text": [
      "MoviePy - Done.\n",
      "Converted: SandalWoodNewsStories_305.mp3 to SandalWoodNewsStories_305.wav\n",
      "MoviePy - Writing audio in ../wav_data/SandalWoodNewsStories_306.wav\n"
     ]
    },
    {
     "name": "stderr",
     "output_type": "stream",
     "text": [
      "                                                                                                                       \r"
     ]
    },
    {
     "name": "stdout",
     "output_type": "stream",
     "text": [
      "MoviePy - Done.\n",
      "Converted: SandalWoodNewsStories_306.mp3 to SandalWoodNewsStories_306.wav\n",
      "MoviePy - Writing audio in ../wav_data/SandalWoodNewsStories_33.wav\n"
     ]
    },
    {
     "name": "stderr",
     "output_type": "stream",
     "text": [
      "                                                                                                                       \r"
     ]
    },
    {
     "name": "stdout",
     "output_type": "stream",
     "text": [
      "MoviePy - Done.\n",
      "Converted: SandalWoodNewsStories_33.mp3 to SandalWoodNewsStories_33.wav\n",
      "MoviePy - Writing audio in ../wav_data/SandalWoodNewsStories_35.wav\n"
     ]
    },
    {
     "name": "stderr",
     "output_type": "stream",
     "text": [
      "                                                                                                                       \r"
     ]
    },
    {
     "name": "stdout",
     "output_type": "stream",
     "text": [
      "MoviePy - Done.\n",
      "Converted: SandalWoodNewsStories_35.mp3 to SandalWoodNewsStories_35.wav\n",
      "MoviePy - Writing audio in ../wav_data/SandalWoodNewsStories_36.wav\n"
     ]
    },
    {
     "name": "stderr",
     "output_type": "stream",
     "text": [
      "                                                                                                                       \r"
     ]
    },
    {
     "name": "stdout",
     "output_type": "stream",
     "text": [
      "MoviePy - Done.\n",
      "Converted: SandalWoodNewsStories_36.mp3 to SandalWoodNewsStories_36.wav\n",
      "MoviePy - Writing audio in ../wav_data/SandalWoodNewsStories_41.wav\n"
     ]
    },
    {
     "name": "stderr",
     "output_type": "stream",
     "text": [
      "                                                                                                                       \r"
     ]
    },
    {
     "name": "stdout",
     "output_type": "stream",
     "text": [
      "MoviePy - Done.\n",
      "Converted: SandalWoodNewsStories_41.mp3 to SandalWoodNewsStories_41.wav\n",
      "MoviePy - Writing audio in ../wav_data/SandalWoodNewsStories_42.wav\n"
     ]
    },
    {
     "name": "stderr",
     "output_type": "stream",
     "text": [
      "                                                                                                                       \r"
     ]
    },
    {
     "name": "stdout",
     "output_type": "stream",
     "text": [
      "MoviePy - Done.\n",
      "Converted: SandalWoodNewsStories_42.mp3 to SandalWoodNewsStories_42.wav\n",
      "MoviePy - Writing audio in ../wav_data/SandalWoodNewsStories_43.wav\n"
     ]
    },
    {
     "name": "stderr",
     "output_type": "stream",
     "text": [
      "                                                                                                                       \r"
     ]
    },
    {
     "name": "stdout",
     "output_type": "stream",
     "text": [
      "MoviePy - Done.\n",
      "Converted: SandalWoodNewsStories_43.mp3 to SandalWoodNewsStories_43.wav\n",
      "MoviePy - Writing audio in ../wav_data/SandalWoodNewsStories_45.wav\n"
     ]
    },
    {
     "name": "stderr",
     "output_type": "stream",
     "text": [
      "                                                                                                                       \r"
     ]
    },
    {
     "name": "stdout",
     "output_type": "stream",
     "text": [
      "MoviePy - Done.\n",
      "Converted: SandalWoodNewsStories_45.mp3 to SandalWoodNewsStories_45.wav\n",
      "MoviePy - Writing audio in ../wav_data/SandalWoodNewsStories_46.wav\n"
     ]
    },
    {
     "name": "stderr",
     "output_type": "stream",
     "text": [
      "                                                                                                                       \r"
     ]
    },
    {
     "name": "stdout",
     "output_type": "stream",
     "text": [
      "MoviePy - Done.\n",
      "Converted: SandalWoodNewsStories_46.mp3 to SandalWoodNewsStories_46.wav\n",
      "MoviePy - Writing audio in ../wav_data/SandalWoodNewsStories_52.wav\n"
     ]
    },
    {
     "name": "stderr",
     "output_type": "stream",
     "text": [
      "                                                                                                                       \r"
     ]
    },
    {
     "name": "stdout",
     "output_type": "stream",
     "text": [
      "MoviePy - Done.\n",
      "Converted: SandalWoodNewsStories_52.mp3 to SandalWoodNewsStories_52.wav\n",
      "MoviePy - Writing audio in ../wav_data/SandalWoodNewsStories_53.wav\n"
     ]
    },
    {
     "name": "stderr",
     "output_type": "stream",
     "text": [
      "                                                                                                                       \r"
     ]
    },
    {
     "name": "stdout",
     "output_type": "stream",
     "text": [
      "MoviePy - Done.\n",
      "Converted: SandalWoodNewsStories_53.mp3 to SandalWoodNewsStories_53.wav\n",
      "MoviePy - Writing audio in ../wav_data/SandalWoodNewsStories_6.wav\n"
     ]
    },
    {
     "name": "stderr",
     "output_type": "stream",
     "text": [
      "                                                                                                                       \r"
     ]
    },
    {
     "name": "stdout",
     "output_type": "stream",
     "text": [
      "MoviePy - Done.\n",
      "Converted: SandalWoodNewsStories_6.mp3 to SandalWoodNewsStories_6.wav\n",
      "MoviePy - Writing audio in ../wav_data/SandalWoodNewsStories_63.wav\n"
     ]
    },
    {
     "name": "stderr",
     "output_type": "stream",
     "text": [
      "                                                                                                                       \r"
     ]
    },
    {
     "name": "stdout",
     "output_type": "stream",
     "text": [
      "MoviePy - Done.\n",
      "Converted: SandalWoodNewsStories_63.mp3 to SandalWoodNewsStories_63.wav\n",
      "MoviePy - Writing audio in ../wav_data/SandalWoodNewsStories_89.wav\n"
     ]
    },
    {
     "name": "stderr",
     "output_type": "stream",
     "text": [
      "                                                                                                                       \r"
     ]
    },
    {
     "name": "stdout",
     "output_type": "stream",
     "text": [
      "MoviePy - Done.\n",
      "Converted: SandalWoodNewsStories_89.mp3 to SandalWoodNewsStories_89.wav\n",
      "MoviePy - Writing audio in ../wav_data/SandalWoodNewsStories_9.wav\n"
     ]
    },
    {
     "name": "stderr",
     "output_type": "stream",
     "text": [
      "                                                                                                                       \r"
     ]
    },
    {
     "name": "stdout",
     "output_type": "stream",
     "text": [
      "MoviePy - Done.\n",
      "Converted: SandalWoodNewsStories_9.mp3 to SandalWoodNewsStories_9.wav\n",
      "MoviePy - Writing audio in ../wav_data/SandalWoodNewsStories_98.wav\n"
     ]
    },
    {
     "name": "stderr",
     "output_type": "stream",
     "text": [
      "                                                                                                                       \r"
     ]
    },
    {
     "name": "stdout",
     "output_type": "stream",
     "text": [
      "MoviePy - Done.\n",
      "Converted: SandalWoodNewsStories_98.mp3 to SandalWoodNewsStories_98.wav\n",
      "MoviePy - Writing audio in ../wav_data/SandalWoodNewsStories_99.wav\n"
     ]
    },
    {
     "name": "stderr",
     "output_type": "stream",
     "text": [
      "                                                                                                                       "
     ]
    },
    {
     "name": "stdout",
     "output_type": "stream",
     "text": [
      "MoviePy - Done.\n",
      "Converted: SandalWoodNewsStories_99.mp3 to SandalWoodNewsStories_99.wav\n",
      "All files have been converted!\n"
     ]
    },
    {
     "name": "stderr",
     "output_type": "stream",
     "text": [
      "\r"
     ]
    }
   ],
   "source": [
    "import os\n",
    "from moviepy.audio.io.AudioFileClip import AudioFileClip\n",
    "\n",
    "# Paths to input and output folders\n",
    "input_folder = \"../dataset/Dataset/\"\n",
    "output_folder = \"../wav_data/\"\n",
    "\n",
    "# Create output folder if it doesn't exist\n",
    "os.makedirs(output_folder, exist_ok=True)\n",
    "\n",
    "# Loop through all MP3 files in the input folder\n",
    "for file_name in os.listdir(input_folder):\n",
    "    if file_name.endswith(\".mp3\"):\n",
    "        # Full paths\n",
    "        mp3_path = os.path.join(input_folder, file_name)\n",
    "        wav_path = os.path.join(output_folder, os.path.splitext(file_name)[0] + \".wav\")\n",
    "        \n",
    "        # Convert MP3 to WAV\n",
    "        with AudioFileClip(mp3_path) as audio:\n",
    "            audio.write_audiofile(wav_path, codec=\"pcm_s16le\")  # Save as WAV\n",
    "        \n",
    "        print(f\"Converted: {file_name} to {os.path.basename(wav_path)}\")\n",
    "\n",
    "print(\"All files have been converted!\")\n"
   ]
  },
  {
   "cell_type": "code",
   "execution_count": null,
   "id": "9ad8b4d0-5ee5-4ca0-b8e1-65e3954228c9",
   "metadata": {},
   "outputs": [],
   "source": []
  }
 ],
 "metadata": {
  "kernelspec": {
   "display_name": "Python 3 (ipykernel)",
   "language": "python",
   "name": "python3"
  },
  "language_info": {
   "codemirror_mode": {
    "name": "ipython",
    "version": 3
   },
   "file_extension": ".py",
   "mimetype": "text/x-python",
   "name": "python",
   "nbconvert_exporter": "python",
   "pygments_lexer": "ipython3",
   "version": "3.11.7"
  }
 },
 "nbformat": 4,
 "nbformat_minor": 5
}
